{
 "cells": [
  {
   "cell_type": "markdown",
   "metadata": {
    "collapsed": true,
    "pycharm": {
     "name": "#%% md\n"
    }
   },
   "source": [
    "# Malicious URL Detection - TF_IDF + SVM"
   ]
  },
  {
   "cell_type": "markdown",
   "source": [
    "## 导入所需包"
   ],
   "metadata": {
    "collapsed": false,
    "pycharm": {
     "name": "#%% md\n"
    }
   }
  },
  {
   "cell_type": "code",
   "execution_count": 15,
   "outputs": [],
   "source": [
    "import pickle\n",
    "\n",
    "import pandas as pd\n",
    "from sklearn.feature_extraction.text import TfidfVectorizer\n",
    "from sklearn.model_selection import train_test_split\n",
    "from sklearn.svm import SVC"
   ],
   "metadata": {
    "collapsed": false,
    "pycharm": {
     "name": "#%%\n"
    }
   }
  },
  {
   "cell_type": "markdown",
   "source": [
    "## 编写数据清洗方法"
   ],
   "metadata": {
    "collapsed": false,
    "pycharm": {
     "name": "#%% md\n"
    }
   }
  },
  {
   "cell_type": "code",
   "execution_count": 16,
   "outputs": [],
   "source": [
    "def csv_data_read(csv_file_path):\n",
    "    # 为减少训练时间，可只取头部10W条，但一定需要先打乱样本）\n",
    "    df_csv = pd.read_csv(csv_file_path).head(10000)\n",
    "    # df_csv = pd.read_csv(csv_file_path)\n",
    "    urls = []\n",
    "    labels = []\n",
    "    for index, row in df_csv.iterrows():\n",
    "        urls.append(row[\"url\"])\n",
    "        labels.append(row[\"label\"])\n",
    "    return urls, labels\n",
    "\n",
    "\n",
    "def url_tokenize(url):\n",
    "    \"\"\"\n",
    "    对URL进行清洗，删除斜线、点、和com，进行分词\n",
    "    :param url:\n",
    "    :return:\n",
    "    \"\"\"\n",
    "    web_url = url.lower()\n",
    "    dot_slash = []\n",
    "    slash = str(web_url).split('/')\n",
    "    for i in slash:\n",
    "        r1 = str(i).split('-')\n",
    "        token_slash = []\n",
    "        for j in range(0,len(r1)):\n",
    "            r2 = str(r1[j]).split('.')\n",
    "            token_slash = token_slash + r2\n",
    "        dot_slash = dot_slash + r1 + token_slash\n",
    "    urltoken_list = list(set(dot_slash))\n",
    "    white_words = [\"com\", \"http:\", \"https:\", \"\"]\n",
    "    for white_word in white_words:\n",
    "        if white_word in urltoken_list:\n",
    "            urltoken_list.remove(white_word)\n",
    "    return urltoken_list"
   ],
   "metadata": {
    "collapsed": false,
    "pycharm": {
     "name": "#%%\n"
    }
   }
  },
  {
   "cell_type": "markdown",
   "source": [
    "## 编写特征提取方法"
   ],
   "metadata": {
    "collapsed": false,
    "pycharm": {
     "name": "#%% md\n"
    }
   }
  },
  {
   "cell_type": "code",
   "execution_count": 17,
   "outputs": [],
   "source": [
    "def feature_extract(grey_urls, y):\n",
    "    \"\"\"\n",
    "    使用TF-IDF算法提取关键词特征，并将数据帧划分为训练集和测试集\n",
    "    \"\"\"\n",
    "    url_vectorizer = TfidfVectorizer(tokenizer=url_tokenize)\n",
    "    x = url_vectorizer.fit_transform(grey_urls)\n",
    "    x_train, x_test, y_train, y_test = train_test_split(x, y, test_size=0.2, random_state=42)\n",
    "\n",
    "    return x_train, x_test, y_train, y_test\n"
   ],
   "metadata": {
    "collapsed": false,
    "pycharm": {
     "name": "#%%\n"
    }
   }
  },
  {
   "cell_type": "markdown",
   "source": [
    "## 编写模型引入方法"
   ],
   "metadata": {
    "collapsed": false,
    "pycharm": {
     "name": "#%% md\n"
    }
   }
  },
  {
   "cell_type": "code",
   "execution_count": 18,
   "outputs": [],
   "source": [
    "def dump_model_object(file_path, model_object):\n",
    "    \"\"\"\n",
    "    使用pickle将内存中的对象转换为文本流保存为本地文件\n",
    "    :param file_path:\n",
    "    :return:\n",
    "    \"\"\"\n",
    "    with open(file_path, \"wb\") as f:\n",
    "        pickle.dump(model_object, f)\n",
    "    f.close()\n",
    "\n",
    "\n",
    "def practice_svm(x_train, x_test, y_train, y_test):\n",
    "    \"\"\"\n",
    "    实践SVM算法识别恶意URL\n",
    "    :param x_train:\n",
    "    :param x_test:\n",
    "    :param y_train:\n",
    "    :param y_test:\n",
    "    :return:\n",
    "    \"\"\"\n",
    "    model_svm = SVC()\n",
    "    # 注意：SVM训练可能较慢，注意样本的数量\n",
    "    model_svm.fit(x_train, y_train)\n",
    "    svm_score = model_svm.score(x_test, y_test)\n",
    "    print(\"测试拟合分数为：{0}\".format(svm_score))\n",
    "    model_svm_save = model_svm\n",
    "\n",
    "    \"\"\"\n",
    "    保存训练好的模型和向量\n",
    "    \"\"\"\n",
    "    file_mode = \"../../model/model-0x3/model_svm.pkl\"\n",
    "    dump_model_object(file_mode, model_svm_save)"
   ],
   "metadata": {
    "collapsed": false,
    "pycharm": {
     "name": "#%%\n"
    }
   }
  },
  {
   "cell_type": "markdown",
   "source": [
    "## 开始模型训练（主函数）"
   ],
   "metadata": {
    "collapsed": false,
    "pycharm": {
     "name": "#%% md\n"
    }
   }
  },
  {
   "cell_type": "code",
   "execution_count": 19,
   "outputs": [
    {
     "name": "stdout",
     "output_type": "stream",
     "text": [
      "测试拟合分数为：0.897\n"
     ]
    }
   ],
   "source": [
    "\"\"\"\n",
    "加载数据集\n",
    "\"\"\"\n",
    "grep_csv_file_path = \"../../data/data-0x3/grey-url.csv\"\n",
    "black_csv_file_path = \"../../data/data-0x3/black-url.csv\"\n",
    "grey_urls, y = csv_data_read(grep_csv_file_path)\n",
    "\n",
    "\"\"\"\n",
    "提取特征\n",
    "\"\"\"\n",
    "x_train, x_test, y_train, y_test = feature_extract(grey_urls, y)\n",
    "\n",
    "\"\"\"\n",
    "使用支持向量机（SVM）算法识别恶意URL\n",
    "\"\"\"\n",
    "practice_svm(x_train, x_test, y_train, y_test)"
   ],
   "metadata": {
    "collapsed": false,
    "pycharm": {
     "name": "#%%\n"
    }
   }
  },
  {
   "cell_type": "markdown",
   "source": [
    "## 模型评估"
   ],
   "metadata": {
    "collapsed": false,
    "pycharm": {
     "name": "#%% md\n"
    }
   }
  },
  {
   "cell_type": "markdown",
   "source": [
    "从上个Cell的模型训练结果中，我们得出拟合分数为0.897，即对这部分数据使用SVM模型"
   ],
   "metadata": {
    "collapsed": false,
    "pycharm": {
     "name": "#%% md\n"
    }
   }
  }
 ],
 "metadata": {
  "kernelspec": {
   "display_name": "Python 3",
   "language": "python",
   "name": "python3"
  },
  "language_info": {
   "codemirror_mode": {
    "name": "ipython",
    "version": 2
   },
   "file_extension": ".py",
   "mimetype": "text/x-python",
   "name": "python",
   "nbconvert_exporter": "python",
   "pygments_lexer": "ipython2",
   "version": "2.7.6"
  }
 },
 "nbformat": 4,
 "nbformat_minor": 0
}